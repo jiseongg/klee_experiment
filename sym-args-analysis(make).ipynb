{
 "cells": [
  {
   "cell_type": "code",
   "execution_count": null,
   "metadata": {},
   "outputs": [],
   "source": [
    "import numpy as np\n",
    "import pandas as pd\n",
    "import matplotlib\n",
    "import matplotlib.pyplot as plt"
   ]
  },
  {
   "cell_type": "code",
   "execution_count": null,
   "metadata": {},
   "outputs": [],
   "source": [
    "data = pd.read_csv('klee-results/make_varying_args.csv',\n",
    "                   header=0, skipfooter=1, engine='python')\n",
    "data"
   ]
  },
  {
   "cell_type": "code",
   "execution_count": null,
   "metadata": {},
   "outputs": [],
   "source": [
    "args_lst = ['pending_ase', 'kupl', 'klee_osdi']\n",
    "searches_lst = ['dfs', 'nurs:depth', 'random-path']"
   ]
  },
  {
   "cell_type": "code",
   "execution_count": null,
   "metadata": {},
   "outputs": [],
   "source": [
    "args = list(map(lambda x: args_lst[x % 3], list(data.index)))\n",
    "searches = list(map(lambda x: searches_lst[x // 3], list(data.index)))\n",
    "data['arg'] = args\n",
    "data['search'] = searches\n",
    "processed_data = data.set_index(['arg', 'search'])"
   ]
  },
  {
   "cell_type": "code",
   "execution_count": null,
   "metadata": {},
   "outputs": [],
   "source": [
    "solver_data = processed_data['TSolver(%)'].unstack(level=1)\n",
    "solver_data"
   ]
  },
  {
   "cell_type": "code",
   "execution_count": null,
   "metadata": {},
   "outputs": [],
   "source": [
    "font = {'family' : 'normal',\n",
    "        'weight' : 'bold',\n",
    "        'size'   : 20}\n",
    "matplotlib.rc('font', **font)\n",
    "\n",
    "labels = solver_data.index\n",
    "random_path = solver_data['random-path']\n",
    "nurs_depth = solver_data['nurs:depth']\n",
    "dfs = solver_data['dfs']\n",
    "\n",
    "x = np.arange(len(labels))  # the label locations\n",
    "width = 0.2  # the width of the bars\n",
    "\n",
    "fig, ax = plt.subplots(figsize=(15, 10))\n",
    "\n",
    "ax.bar(x - width, random_path, width, label='RP')\n",
    "ax.bar(x, nurs_depth, width, label='NURS:DEPTH')\n",
    "ax.bar(x + width, dfs, width, label='dfs')\n",
    "\n",
    "# Add some text for labels, title and custom x-axis tick labels, etc.\n",
    "ax.set_xticks(x)\n",
    "ax.set_xticklabels(labels, rotation=0)\n",
    "ax.set_ylabel('TSolver(%)')\n",
    "ax.legend()\n",
    "\n",
    "plt.savefig('tsolver_make_args.png', dpi=300)\n",
    "plt.show()"
   ]
  },
  {
   "cell_type": "code",
   "execution_count": null,
   "metadata": {},
   "outputs": [],
   "source": []
  }
 ],
 "metadata": {
  "kernelspec": {
   "display_name": "data_analysis",
   "language": "python",
   "name": "data_analysis"
  },
  "language_info": {
   "codemirror_mode": {
    "name": "ipython",
    "version": 3
   },
   "file_extension": ".py",
   "mimetype": "text/x-python",
   "name": "python",
   "nbconvert_exporter": "python",
   "pygments_lexer": "ipython3",
   "version": "3.8.5"
  }
 },
 "nbformat": 4,
 "nbformat_minor": 4
}
