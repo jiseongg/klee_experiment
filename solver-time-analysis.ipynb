{
 "cells": [
  {
   "cell_type": "code",
   "execution_count": null,
   "metadata": {},
   "outputs": [],
   "source": [
    "import pandas as pd\n",
    "import matplotlib\n",
    "import matplotlib.pyplot as plt"
   ]
  },
  {
   "cell_type": "code",
   "execution_count": null,
   "metadata": {},
   "outputs": [],
   "source": [
    "data = pd.read_csv('klee-results/pending_reproduction.csv',\n",
    "                   header=0, skipfooter=1, engine='python')\n",
    "data"
   ]
  },
  {
   "cell_type": "code",
   "execution_count": null,
   "metadata": {},
   "outputs": [],
   "source": [
    "benchmarks_lst = [\n",
    "    'bc', 'datamash', 'm4', 'magick-jpg', 'magick-png',\n",
    "    'make', 'oggenc', 'sqlite3', 'tcpdump'\n",
    "]\n",
    "search_lst = ['dfs', 'nurs:depth', 'random-path']"
   ]
  },
  {
   "cell_type": "code",
   "execution_count": null,
   "metadata": {},
   "outputs": [],
   "source": [
    "benchmarks = list(map(lambda x: benchmarks_lst[x // 3], list(data.index)))\n",
    "searches = list(map(lambda x: search_lst[x % 3], list(data.index)))\n",
    "data['benchmark'] = benchmarks\n",
    "data['search'] = searches\n",
    "processed_data = data.set_index(['benchmark', 'search'])"
   ]
  },
  {
   "cell_type": "code",
   "execution_count": null,
   "metadata": {},
   "outputs": [],
   "source": [
    "solver_data = processed_data['TSolver(%)'].unstack(level=1)\n",
    "solver_data"
   ]
  },
  {
   "cell_type": "code",
   "execution_count": null,
   "metadata": {},
   "outputs": [],
   "source": [
    "solver_data.plot.bar(rot=45, figsize=(15, 10))"
   ]
  },
  {
   "cell_type": "code",
   "execution_count": null,
   "metadata": {},
   "outputs": [],
   "source": [
    "solver_data"
   ]
  },
  {
   "cell_type": "code",
   "execution_count": null,
   "metadata": {},
   "outputs": [],
   "source": [
    "font = {'family' : 'normal',\n",
    "        'weight' : 'bold',\n",
    "        'size'   : 15}\n",
    "matplotlib.rc('font', **font)\n",
    "\n",
    "labels = solver_data.index\n",
    "random_path = solver_data['random-path']\n",
    "nurs_depth = solver_data['nurs:depth']\n",
    "dfs = solver_data['dfs']\n",
    "\n",
    "x = np.arange(len(labels))  # the label locations\n",
    "width = 0.2  # the width of the bars\n",
    "\n",
    "fig, axes = plt.subplots(\n",
    "    2, 1, sharex=True, figsize=(15, 10),\n",
    "    gridspec_kw={'height_ratios': [3, 1]})\n",
    "\n",
    "for ax in axes:\n",
    "    ax.bar(x - width, random_path, width, label='RP')\n",
    "    ax.bar(x, nurs_depth, width, label='NURS:DEPTH')\n",
    "    ax.bar(x + width, dfs, width, label='dfs')\n",
    "\n",
    "    # Add some text for labels, title and custom x-axis tick labels, etc.\n",
    "    ax.set_xticks(x)\n",
    "    ax.set_xticklabels(labels, rotation=45)\n",
    "\n",
    "axes[0].set_ylabel('TSolver(%)', loc='bottom')\n",
    "axes[0].set_ylim(65., 100.)  # outliers only\n",
    "axes[1].set_ylim(0., 5.)  # most of the data\n",
    "\n",
    "# hide the spines between ax and ax2\n",
    "axes[0].spines['bottom'].set_visible(False)\n",
    "axes[1].spines['top'].set_visible(False)\n",
    "axes[0].xaxis.tick_top()\n",
    "axes[1].tick_params(labeltop=False)  # don't put tick labels at the top\n",
    "axes[1].xaxis.tick_bottom()\n",
    "\n",
    "d = 0.005  # how big to make the diagonal lines in axes coordinates\n",
    "# arguments to pass to plot, just so we don't keep repeating them\n",
    "kwargs = dict(transform=axes[0].transAxes, color='k', clip_on=False)\n",
    "axes[0].plot((-d, +d), (-d, +d), **kwargs)        # top-left diagonal\n",
    "axes[0].plot((1 - d, 1 + d), (-d, +d), **kwargs)  # top-right diagonal\n",
    "\n",
    "kwargs.update(transform=axes[1].transAxes)  # switch to the bottom axes\n",
    "axes[1].plot((-d, +d), (1 - d, 1 + d), **kwargs)  # bottom-left diagonal\n",
    "axes[1].plot((1 - d, 1 + d), (1 - d, 1 + d), **kwargs)  # bottom-right diagonal\n",
    "\n",
    "plt.savefig('tsolver.png', dpi=300)\n",
    "plt.show()"
   ]
  },
  {
   "cell_type": "code",
   "execution_count": null,
   "metadata": {},
   "outputs": [],
   "source": []
  }
 ],
 "metadata": {
  "kernelspec": {
   "display_name": "data_analysis",
   "language": "python",
   "name": "data_analysis"
  },
  "language_info": {
   "codemirror_mode": {
    "name": "ipython",
    "version": 3
   },
   "file_extension": ".py",
   "mimetype": "text/x-python",
   "name": "python",
   "nbconvert_exporter": "python",
   "pygments_lexer": "ipython3",
   "version": "3.8.5"
  }
 },
 "nbformat": 4,
 "nbformat_minor": 4
}
