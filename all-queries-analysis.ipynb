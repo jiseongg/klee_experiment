{
 "cells": [
  {
   "cell_type": "code",
   "execution_count": null,
   "id": "jewish-tours",
   "metadata": {},
   "outputs": [],
   "source": [
    "from util import *\n",
    "\n",
    "import os\n",
    "import pandas as pd"
   ]
  },
  {
   "cell_type": "code",
   "execution_count": null,
   "metadata": {},
   "outputs": [],
   "source": [
    "results = [\"%s-%s-7200s\" % (pgm, search)\n",
    "           for pgm in ['bc', 'datamash', 'm4', 'magick-jpg', 'magick-png',\n",
    "                       'make', 'oggenc', 'sqlite3', 'tcpdump']\n",
    "           for search in ['dfs', 'nurs:depth', 'random-path']]"
   ]
  },
  {
   "cell_type": "code",
   "execution_count": null,
   "id": "armed-burning",
   "metadata": {},
   "outputs": [],
   "source": [
    "result_dir = 'klee-results'\n",
    "query_log_file = 'all-queries.kquery'\n",
    "\n",
    "result_statistics = dict()\n",
    "\n",
    "for result in results:\n",
    "    \n",
    "    filepath = result_dir + '/' + result + '/' + query_log_file\n",
    "    parse_result = solver_data_parser(filepath)\n",
    "    \n",
    "    if parse_result is None:\n",
    "        continue\n",
    "    \n",
    "    (success, validityResults, initialValuesResults, valueResults,\n",
    "     truthResults, elapsed_times, query_types) = parse_result\n",
    "    statistics = pd.DataFrame(\n",
    "        zip(success, validityResults, initialValuesResults, valueResults,\n",
    "     truthResults, elapsed_times, query_types),\n",
    "        columns=[\"success\", \"validityResults\", \"initialValuesResults\",\n",
    "                 \"valueResults\", \"truthResults\", \"elapsed_times\", \"query_types\"])\n",
    "    result_statistics[result] = statistics"
   ]
  },
  {
   "cell_type": "code",
   "execution_count": null,
   "metadata": {},
   "outputs": [],
   "source": [
    "summarize_data(result_statistics['bc-dfs-7200s'])"
   ]
  },
  {
   "cell_type": "code",
   "execution_count": null,
   "metadata": {},
   "outputs": [],
   "source": [
    "summarize_data(result_statistics['bc-nurs:depth-7200s'])"
   ]
  },
  {
   "cell_type": "code",
   "execution_count": null,
   "metadata": {},
   "outputs": [],
   "source": [
    "summarize_data(result_statistics['bc-random-path-7200s'])"
   ]
  },
  {
   "cell_type": "code",
   "execution_count": null,
   "metadata": {},
   "outputs": [],
   "source": [
    "summarize_data(result_statistics['datamash-dfs-7200s'])"
   ]
  },
  {
   "cell_type": "code",
   "execution_count": null,
   "metadata": {},
   "outputs": [],
   "source": [
    "summarize_data(result_statistics['datamash-nurs:depth-7200s'])"
   ]
  },
  {
   "cell_type": "code",
   "execution_count": null,
   "metadata": {},
   "outputs": [],
   "source": [
    "summarize_data(result_statistics['datamash-random-path-7200s'])"
   ]
  },
  {
   "cell_type": "code",
   "execution_count": null,
   "metadata": {},
   "outputs": [],
   "source": [
    "summarize_data(result_statistics['m4-dfs-7200s'])"
   ]
  },
  {
   "cell_type": "code",
   "execution_count": null,
   "metadata": {},
   "outputs": [],
   "source": [
    "summarize_data(result_statistics['m4-nurs:depth-7200s'])"
   ]
  },
  {
   "cell_type": "code",
   "execution_count": null,
   "metadata": {},
   "outputs": [],
   "source": [
    "summarize_data(result_statistics['m4-random-path-7200s'])"
   ]
  },
  {
   "cell_type": "code",
   "execution_count": null,
   "metadata": {},
   "outputs": [],
   "source": [
    "summarize_data(result_statistics['magick-jpg-dfs-7200s'])"
   ]
  },
  {
   "cell_type": "code",
   "execution_count": null,
   "metadata": {},
   "outputs": [],
   "source": [
    "summarize_data(result_statistics['magick-jpg-nurs:depth-7200s'])"
   ]
  },
  {
   "cell_type": "code",
   "execution_count": null,
   "metadata": {},
   "outputs": [],
   "source": [
    "summarize_data(result_statistics['magick-jpg-random-path-7200s'])"
   ]
  },
  {
   "cell_type": "code",
   "execution_count": null,
   "metadata": {},
   "outputs": [],
   "source": [
    "summarize_data(result_statistics['magick-png-dfs-7200s'])"
   ]
  },
  {
   "cell_type": "code",
   "execution_count": null,
   "metadata": {},
   "outputs": [],
   "source": [
    "summarize_data(result_statistics['magick-png-nurs:depth-7200s'])"
   ]
  },
  {
   "cell_type": "code",
   "execution_count": null,
   "metadata": {},
   "outputs": [],
   "source": [
    "summarize_data(result_statistics['magick-png-random-path-7200s'])"
   ]
  },
  {
   "cell_type": "code",
   "execution_count": null,
   "metadata": {},
   "outputs": [],
   "source": [
    "summarize_data(result_statistics['make-dfs-7200s'])"
   ]
  },
  {
   "cell_type": "code",
   "execution_count": null,
   "metadata": {},
   "outputs": [],
   "source": [
    "summarize_data(result_statistics['make-nurs:depth-7200s'])"
   ]
  },
  {
   "cell_type": "code",
   "execution_count": null,
   "metadata": {},
   "outputs": [],
   "source": [
    "summarize_data(result_statistics['make-random-path-7200s'])"
   ]
  },
  {
   "cell_type": "code",
   "execution_count": null,
   "metadata": {},
   "outputs": [],
   "source": [
    "summarize_data(result_statistics['oggenc-dfs-7200s'])"
   ]
  },
  {
   "cell_type": "code",
   "execution_count": null,
   "metadata": {},
   "outputs": [],
   "source": [
    "summarize_data(result_statistics['oggenc-nurs:depth-7200s'])"
   ]
  },
  {
   "cell_type": "code",
   "execution_count": null,
   "metadata": {},
   "outputs": [],
   "source": [
    "summarize_data(result_statistics['oggenc-random-path-7200s'])"
   ]
  },
  {
   "cell_type": "code",
   "execution_count": null,
   "metadata": {},
   "outputs": [],
   "source": [
    "summarize_data(result_statistics['sqlite3-dfs-7200s'])"
   ]
  },
  {
   "cell_type": "code",
   "execution_count": null,
   "metadata": {},
   "outputs": [],
   "source": [
    "summarize_data(result_statistics['sqlite3-nurs:depth-7200s'])"
   ]
  },
  {
   "cell_type": "code",
   "execution_count": null,
   "metadata": {},
   "outputs": [],
   "source": [
    "summarize_data(result_statistics['sqlite3-random-path-7200s'])"
   ]
  },
  {
   "cell_type": "code",
   "execution_count": null,
   "metadata": {},
   "outputs": [],
   "source": [
    "summarize_data(result_statistics['tcpdump-dfs-7200s'])"
   ]
  },
  {
   "cell_type": "code",
   "execution_count": null,
   "metadata": {},
   "outputs": [],
   "source": [
    "summarize_data(result_statistics['tcpdump-nurs:depth-7200s'])"
   ]
  },
  {
   "cell_type": "code",
   "execution_count": null,
   "metadata": {},
   "outputs": [],
   "source": [
    "summarize_data(result_statistics['tcpdump-random-path-7200s'])"
   ]
  }
 ],
 "metadata": {
  "kernelspec": {
   "display_name": "data_analysis",
   "language": "python",
   "name": "data_analysis"
  },
  "language_info": {
   "codemirror_mode": {
    "name": "ipython",
    "version": 3
   },
   "file_extension": ".py",
   "mimetype": "text/x-python",
   "name": "python",
   "nbconvert_exporter": "python",
   "pygments_lexer": "ipython3",
   "version": "3.8.5"
  }
 },
 "nbformat": 4,
 "nbformat_minor": 5
}
